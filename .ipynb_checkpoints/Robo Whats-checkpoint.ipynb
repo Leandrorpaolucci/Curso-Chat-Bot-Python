{
 "cells": [
  {
   "cell_type": "code",
   "execution_count": null,
   "id": "1ca797f6",
   "metadata": {},
   "outputs": [
    {
     "name": "stdout",
     "output_type": "stream",
     "text": [
      "Buscando novas mensagens\n",
      "Buscando novas mensagens\n",
      "Buscando novas mensagens\n",
      "Buscando novas mensagens\n",
      "Buscando novas mensagens\n",
      "Buscando novas mensagens\n",
      "Buscando novas mensagens\n",
      "Buscando novas mensagens\n",
      "Buscando novas mensagens\n",
      "Buscando novas mensagens\n",
      "Buscando novas mensagens\n",
      "Buscando novas mensagens\n",
      "Buscando novas mensagens\n",
      "Buscando novas mensagens\n",
      "Buscando novas mensagens\n",
      "Buscando novas mensagens\n",
      "Buscando novas mensagens\n"
     ]
    }
   ],
   "source": [
    "#Importa o selenium/navegador\n",
    "from selenium import webdriver\n",
    "#--------------------------------\n",
    "#Importa os serviços e consultas de atualização do ChromeDriver\n",
    "from selenium.webdriver.chrome.service import Service\n",
    "from webdriver_manager.chrome import ChromeDriverManager\n",
    "#---------------------------------------------------------------------\n",
    "#Importa o comando By \"→ navegador.find_element(By.EXEMPLO)\"\n",
    "from selenium.webdriver.common.by import By\n",
    "from selenium.webdriver.common.keys import Keys\n",
    "from selenium.webdriver import ActionChains\n",
    "#---------------------------------------------------------------------\n",
    "# Biblioteca para converter nossa mensagem, codificaremos para links de url\n",
    "import urllib\n",
    "#Comando para iniciar a busca de atualização & Download → ChromeDriver\n",
    "from time import sleep\n",
    "servico = Service(ChromeDriverManager().install())\n",
    "#---------------------------------------------------------------------\n",
    "#Dentro do WebDriver, temos o comando \"options\", permite adicionar opções/argumento de opções para o nosso navegador\n",
    "#Dentro do options, adicionaremos o argumento de perfil, criaremos o perfil do proprio selenium para que ele possa \n",
    "#Armazenar o perfil utilizado na ultima sessão de iniciação\n",
    "#Referências (Chrome aberto) → Chrome://Version\n",
    "#Descobriremos o caminho (profile)\n",
    "options = webdriver.ChromeOptions()\n",
    "options.add_argument(r'user-data-dir=C:\\Users\\leandror\\AppData\\Local\\Google\\Chrome\\User Data\\Profile Selenium')\n",
    "navegador = webdriver.Chrome(service=servico, options=options)\n",
    "#-----------------------------------------------------------------------------------------------------------------\n",
    "#Maximiza a janela após iniciada\n",
    "navegador.maximize_window()\n",
    "navegador.get(\"https://web.whatsapp.com/\")\n",
    "\n",
    "while len(navegador.find_elements(By.ID,\"side\")) < 1:\n",
    "    sleep(1)\n",
    "\n",
    "\n",
    "def bot():\n",
    "    try:\n",
    "        bolinha_verde_whatsapp = navegador.find_element(By.CLASS_NAME, 'cfzgl7ar').click()\n",
    "        bolinha_verde_whatsapp = navegador.find_elements(By.CLASS_NAME, 'cfzgl7ar').click()\n",
    "        clica_bolinha = bolinha_verde_whatsapp[-1]\n",
    "        sleep(15)\n",
    "    except:\n",
    "        print(\"Buscando novas mensagens\")\n",
    "        sleep(15)\n",
    "        \n",
    "\n",
    "while True:\n",
    "    bot()\n",
    "    "
   ]
  }
 ],
 "metadata": {
  "kernelspec": {
   "display_name": "Python 3 (ipykernel)",
   "language": "python",
   "name": "python3"
  },
  "language_info": {
   "codemirror_mode": {
    "name": "ipython",
    "version": 3
   },
   "file_extension": ".py",
   "mimetype": "text/x-python",
   "name": "python",
   "nbconvert_exporter": "python",
   "pygments_lexer": "ipython3",
   "version": "3.9.13"
  }
 },
 "nbformat": 4,
 "nbformat_minor": 5
}
